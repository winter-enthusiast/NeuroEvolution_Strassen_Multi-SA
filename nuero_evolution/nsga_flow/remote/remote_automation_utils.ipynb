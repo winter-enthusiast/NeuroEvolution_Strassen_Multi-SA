{
 "cells": [
  {
   "cell_type": "markdown",
   "id": "551bac20",
   "metadata": {},
   "source": [
    "# Installing Packages in all Systems at once"
   ]
  },
  {
   "cell_type": "code",
   "execution_count": null,
   "id": "9d7ea607",
   "metadata": {},
   "outputs": [],
   "source": [
    "import subprocess\n",
    "\n",
    "# Remote system configs\n",
    "remote_configs = {\n",
    "    \"cadencea19@172.16.121.14\": {\"password\": \"caduser@123\", \"enabled\": True},\n",
    "    \"cadencea18@172.16.121.11\": {\"password\": \"caduser@123\", \"enabled\": True},\n",
    "    \"cadencea22@172.16.121.25\": {\"password\": \"caduser@123\", \"enabled\": True},\n",
    "    \"cadencea24@172.16.121.30\": {\"password\": \"caduser@123\", \"enabled\": True},\n",
    "\n",
    "    \"cadencea2@172.16.121.8\": {\"password\": \"caduser@123\", \"enabled\": True},\n",
    "    \"cadencea6@172.16.121.66\": {\"password\": \"caduser@123\", \"enabled\": True},\n",
    "    \"cadencea16@172.16.121.75\": {\"password\": \"caduser@123\", \"enabled\": True},\n",
    "}\n",
    "\n",
    "# List of required packages\n",
    "packages = [\"pandas\", \"numpy\", \"Pillow\", \"tqdm\"]\n",
    "\n",
    "# Remote command to install packages without root\n",
    "install_command = f\"pip3 install --user {' '.join(packages)}\"\n",
    "\n",
    "# Also export PATH for ~/.local/bin so scripts work properly\n",
    "env_fix = 'export PATH=\"$HOME/.local/bin:$PATH\"'\n",
    "\n",
    "# Final command to execute remotely\n",
    "full_command = f\"{env_fix} && {install_command}\"\n",
    "\n",
    "# Run the command on all enabled systems\n",
    "for user_host, config in remote_configs.items():\n",
    "    if not config.get(\"enabled\", False):\n",
    "        continue\n",
    "\n",
    "    password = config[\"password\"]\n",
    "    print(f\"\\n📡 Installing packages on {user_host}...\")\n",
    "\n",
    "    ssh_cmd = [\n",
    "        \"sshpass\", \"-p\", password,\n",
    "        \"ssh\", \"-o\", \"StrictHostKeyChecking=no\",\n",
    "        user_host,\n",
    "        full_command\n",
    "    ]\n",
    "\n",
    "    try:\n",
    "        subprocess.run(ssh_cmd, check=True)\n",
    "        print(f\"✅ Successfully installed packages on {user_host}\")\n",
    "    except subprocess.CalledProcessError as e:\n",
    "        print(f\"❌ Failed to install on {user_host}: {e}\")\n"
   ]
  },
  {
   "cell_type": "code",
   "execution_count": 3,
   "id": "39666b64",
   "metadata": {},
   "outputs": [
    {
     "name": "stdout",
     "output_type": "stream",
     "text": [
      "🔄 Renaming folders in cadencea12@172.16.121.82...\n"
     ]
    },
    {
     "name": "stderr",
     "output_type": "stream",
     "text": [
      "Warning: Permanently added '172.16.121.82' (ED25519) to the list of known hosts.\n"
     ]
    },
    {
     "name": "stdout",
     "output_type": "stream",
     "text": [
      "✅ Renamed to: array_config_1, array_config_2\n",
      "🔄 Renaming folders in cadencea1@172.16.121.72...\n"
     ]
    },
    {
     "name": "stderr",
     "output_type": "stream",
     "text": [
      "Warning: Permanently added '172.16.121.72' (ED25519) to the list of known hosts.\n"
     ]
    },
    {
     "name": "stdout",
     "output_type": "stream",
     "text": [
      "✅ Renamed to: array_config_5, array_config_6\n",
      "🔄 Renaming folders in cadencea8@172.16.121.78...\n"
     ]
    },
    {
     "name": "stderr",
     "output_type": "stream",
     "text": [
      "Warning: Permanently added '172.16.121.78' (ED25519) to the list of known hosts.\n"
     ]
    },
    {
     "name": "stdout",
     "output_type": "stream",
     "text": [
      "✅ Renamed to: array_config_7, array_config_8\n",
      "🔄 Renaming folders in cadencea10@172.16.121.80...\n"
     ]
    },
    {
     "name": "stderr",
     "output_type": "stream",
     "text": [
      "Warning: Permanently added '172.16.121.80' (ED25519) to the list of known hosts.\n"
     ]
    },
    {
     "name": "stdout",
     "output_type": "stream",
     "text": [
      "✅ Renamed to: array_config_9, array_config_10\n",
      "🔄 Renaming folders in cadencea15@172.16.121.6...\n"
     ]
    },
    {
     "name": "stderr",
     "output_type": "stream",
     "text": [
      "Warning: Permanently added '172.16.121.6' (ED25519) to the list of known hosts.\n"
     ]
    },
    {
     "name": "stdout",
     "output_type": "stream",
     "text": [
      "✅ Renamed to: array_config_11, array_config_12\n",
      "🔄 Renaming folders in cadencea14@172.16.121.84...\n",
      "✅ Renamed to: array_config_13, array_config_14\n",
      "🔄 Renaming folders in imt2022556_nishit@172.16.121.37...\n"
     ]
    },
    {
     "name": "stderr",
     "output_type": "stream",
     "text": [
      "Warning: Permanently added '172.16.121.84' (ED25519) to the list of known hosts.\n",
      "Warning: Permanently added '172.16.121.37' (ED25519) to the list of known hosts.\n"
     ]
    },
    {
     "name": "stdout",
     "output_type": "stream",
     "text": [
      "✅ Renamed to: array_config_3, array_config_4\n"
     ]
    }
   ],
   "source": [
    "import subprocess\n",
    "\n",
    "remote_configs = {\n",
    "    \"cadencea12@172.16.121.82\": {\"password\": \"caduser@123\", \"subdir\": [\"array_config_1\", \"array_config_2\"]},\n",
    "    \"cadencea1@172.16.121.72\": {\"password\": \"caduser@123\", \"subdir\": [\"array_config_5\", \"array_config_6\"]},\n",
    "    \"cadencea8@172.16.121.78\": {\"password\": \"caduser@123\", \"subdir\": [\"array_config_7\", \"array_config_8\"]},\n",
    "    \"cadencea10@172.16.121.80\": {\"password\": \"caduser@123\", \"subdir\": [\"array_config_9\", \"array_config_10\"]},\n",
    "    \"cadencea15@172.16.121.6\": {\"password\": \"caduser@123\", \"subdir\": [\"array_config_11\", \"array_config_12\"]},\n",
    "    \"cadencea14@172.16.121.84\": {\"password\": \"caduser@123\", \"subdir\": [\"array_config_13\", \"array_config_14\"]},\n",
    "    \"imt2022556_nishit@172.16.121.37\": {\"password\": \"$@Rl@1234\", \"subdir\": [\"array_config_3\", \"array_config_4\"]},\n",
    "}\n",
    "\n",
    "def rename_remote_dirs(user_host, password, new_dirs):\n",
    "    user, host = user_host.split(\"@\")\n",
    "    base_path = f\"/home/{user}/Documents/strassen\"\n",
    "    \n",
    "    cmd = f\"\"\"\n",
    "        cd {base_path} && \\\n",
    "        mv array_4096_1 {new_dirs[0]} && \\\n",
    "        mv array_4096_2 {new_dirs[1]}\n",
    "    \"\"\"\n",
    "    \n",
    "    ssh_command = [\n",
    "        \"sshpass\", \"-p\", password,\n",
    "        \"ssh\", \"-o\", \"StrictHostKeyChecking=no\",\n",
    "        \"-o\", \"UserKnownHostsFile=/dev/null\",\n",
    "        f\"{user_host}\",\n",
    "        cmd\n",
    "    ]\n",
    "\n",
    "    try:\n",
    "        print(f\"🔄 Renaming folders in {user_host}...\")\n",
    "        subprocess.run(ssh_command, check=True)\n",
    "        print(f\"✅ Renamed to: {new_dirs[0]}, {new_dirs[1]}\")\n",
    "    except subprocess.CalledProcessError as e:\n",
    "        print(f\"❌ Failed on {user_host}: {e}\")\n",
    "\n",
    "# Run renaming across all systems\n",
    "for user_host, config in remote_configs.items():\n",
    "    rename_remote_dirs(user_host, config[\"password\"], config[\"subdir\"])\n"
   ]
  },
  {
   "cell_type": "markdown",
   "id": "3a46eace",
   "metadata": {},
   "source": [
    "# Installing Numpy in all systems "
   ]
  },
  {
   "cell_type": "code",
   "execution_count": 2,
   "id": "9a16e326",
   "metadata": {},
   "outputs": [
    {
     "name": "stdout",
     "output_type": "stream",
     "text": [
      "\n",
      "📤 Sending modify_rtl.py to cadencea12@172.16.121.82:/home/cadencea12/Documents/strassen/array_4096_1/\n",
      "✅ File sent.\n",
      "📦 Installing numpy on cadencea12@172.16.121.82...\n",
      "Collecting numpy\n",
      "  Using cached https://files.pythonhosted.org/packages/45/b2/6c7545bb7a38754d63048c7696804a0d947328125d81bf12beaa692c3ae3/numpy-1.19.5-cp36-cp36m-manylinux1_x86_64.whl\n",
      "Installing collected packages: numpy\n",
      "Successfully installed numpy-1.19.5\n",
      "✅ Numpy installed.\n",
      "\n",
      "📤 Sending modify_rtl.py to cadencea12@172.16.121.82:/home/cadencea12/Documents/strassen/array_4096_2/\n",
      "✅ File sent.\n",
      "📦 Installing numpy on cadencea12@172.16.121.82...\n",
      "Requirement already satisfied: numpy in ./.local/lib/python3.6/site-packages\n",
      "✅ Numpy installed.\n",
      "\n",
      "📤 Sending modify_rtl.py to cadencea1@172.16.121.72:/home/cadencea1/Documents/strassen/array_4096_1/\n",
      "✅ File sent.\n",
      "📦 Installing numpy on cadencea1@172.16.121.72...\n",
      "Collecting numpy\n",
      "  Downloading https://files.pythonhosted.org/packages/45/b2/6c7545bb7a38754d63048c7696804a0d947328125d81bf12beaa692c3ae3/numpy-1.19.5-cp36-cp36m-manylinux1_x86_64.whl (13.4MB)\n",
      "Installing collected packages: numpy\n",
      "Successfully installed numpy-1.19.5\n",
      "✅ Numpy installed.\n",
      "\n",
      "📤 Sending modify_rtl.py to cadencea1@172.16.121.72:/home/cadencea1/Documents/strassen/array_4096_2/\n",
      "✅ File sent.\n",
      "📦 Installing numpy on cadencea1@172.16.121.72...\n",
      "Requirement already satisfied: numpy in ./.local/lib/python3.6/site-packages\n",
      "✅ Numpy installed.\n",
      "\n",
      "📤 Sending modify_rtl.py to cadencea8@172.16.121.78:/home/cadencea8/Documents/strassen/array_4096_1/\n",
      "✅ File sent.\n",
      "📦 Installing numpy on cadencea8@172.16.121.78...\n",
      "Collecting numpy\n",
      "  Downloading https://files.pythonhosted.org/packages/45/b2/6c7545bb7a38754d63048c7696804a0d947328125d81bf12beaa692c3ae3/numpy-1.19.5-cp36-cp36m-manylinux1_x86_64.whl (13.4MB)\n",
      "Installing collected packages: numpy\n",
      "Successfully installed numpy-1.19.5\n",
      "✅ Numpy installed.\n",
      "\n",
      "📤 Sending modify_rtl.py to cadencea8@172.16.121.78:/home/cadencea8/Documents/strassen/array_4096_2/\n",
      "✅ File sent.\n",
      "📦 Installing numpy on cadencea8@172.16.121.78...\n",
      "Requirement already satisfied: numpy in ./.local/lib/python3.6/site-packages\n",
      "✅ Numpy installed.\n",
      "\n",
      "📤 Sending modify_rtl.py to cadencea10@172.16.121.80:/home/cadencea10/Documents/strassen/array_4096_1/\n",
      "✅ File sent.\n",
      "📦 Installing numpy on cadencea10@172.16.121.80...\n",
      "Collecting numpy\n",
      "  Downloading https://files.pythonhosted.org/packages/45/b2/6c7545bb7a38754d63048c7696804a0d947328125d81bf12beaa692c3ae3/numpy-1.19.5-cp36-cp36m-manylinux1_x86_64.whl (13.4MB)\n",
      "Installing collected packages: numpy\n",
      "Successfully installed numpy-1.19.5\n",
      "✅ Numpy installed.\n",
      "\n",
      "📤 Sending modify_rtl.py to cadencea10@172.16.121.80:/home/cadencea10/Documents/strassen/array_4096_2/\n",
      "✅ File sent.\n",
      "📦 Installing numpy on cadencea10@172.16.121.80...\n",
      "Requirement already satisfied: numpy in ./.local/lib/python3.6/site-packages\n",
      "✅ Numpy installed.\n",
      "\n",
      "📤 Sending modify_rtl.py to cadencea15@172.16.121.6:/home/cadencea15/Documents/strassen/array_4096_1/\n",
      "✅ File sent.\n",
      "📦 Installing numpy on cadencea15@172.16.121.6...\n",
      "Requirement already satisfied: numpy in ./.local/lib/python3.6/site-packages\n",
      "✅ Numpy installed.\n",
      "\n",
      "📤 Sending modify_rtl.py to cadencea15@172.16.121.6:/home/cadencea15/Documents/strassen/array_4096_2/\n",
      "✅ File sent.\n",
      "📦 Installing numpy on cadencea15@172.16.121.6...\n",
      "Requirement already satisfied: numpy in ./.local/lib/python3.6/site-packages\n",
      "✅ Numpy installed.\n",
      "\n",
      "📤 Sending modify_rtl.py to cadencea14@172.16.121.84:/home/cadencea14/Documents/strassen/array_4096_1/\n",
      "✅ File sent.\n",
      "📦 Installing numpy on cadencea14@172.16.121.84...\n",
      "Collecting numpy\n",
      "  Downloading https://files.pythonhosted.org/packages/45/b2/6c7545bb7a38754d63048c7696804a0d947328125d81bf12beaa692c3ae3/numpy-1.19.5-cp36-cp36m-manylinux1_x86_64.whl (13.4MB)\n",
      "Installing collected packages: numpy\n",
      "Successfully installed numpy-1.19.5\n",
      "✅ Numpy installed.\n",
      "\n",
      "📤 Sending modify_rtl.py to cadencea14@172.16.121.84:/home/cadencea14/Documents/strassen/array_4096_2/\n",
      "✅ File sent.\n",
      "📦 Installing numpy on cadencea14@172.16.121.84...\n",
      "Requirement already satisfied: numpy in ./.local/lib/python3.6/site-packages\n",
      "✅ Numpy installed.\n",
      "\n",
      "📤 Sending modify_rtl.py to imt2022556_nishit@172.16.121.37:/home/imt2022556_nishit/Documents/strassen/array_4096_1/\n",
      "✅ File sent.\n",
      "📦 Installing numpy on imt2022556_nishit@172.16.121.37...\n",
      "Collecting numpy\n",
      "  Downloading https://files.pythonhosted.org/packages/45/b2/6c7545bb7a38754d63048c7696804a0d947328125d81bf12beaa692c3ae3/numpy-1.19.5-cp36-cp36m-manylinux1_x86_64.whl (13.4MB)\n",
      "Installing collected packages: numpy\n",
      "Successfully installed numpy-1.19.5\n",
      "✅ Numpy installed.\n",
      "\n",
      "📤 Sending modify_rtl.py to imt2022556_nishit@172.16.121.37:/home/imt2022556_nishit/Documents/strassen/array_4096_2/\n",
      "✅ File sent.\n",
      "📦 Installing numpy on imt2022556_nishit@172.16.121.37...\n",
      "Requirement already satisfied: numpy in ./.local/lib/python3.6/site-packages\n",
      "✅ Numpy installed.\n"
     ]
    }
   ],
   "source": [
    "import subprocess\n",
    "import os\n",
    "\n",
    "# ---------------- CONFIG ---------------- #\n",
    "\n",
    "remote_configs = {\n",
    "    \"cadencea12@172.16.121.82\": {\"password\": \"caduser@123\", \"log_prefix\": \"12\"},\n",
    "    \"cadencea1@172.16.121.72\": {\"password\": \"caduser@123\", \"log_prefix\": \"1\"},\n",
    "    \"cadencea8@172.16.121.78\": {\"password\": \"caduser@123\", \"log_prefix\": \"8\"},\n",
    "    \"cadencea10@172.16.121.80\": {\"password\": \"caduser@123\", \"log_prefix\": \"10\"},\n",
    "    \"cadencea15@172.16.121.6\": {\"password\": \"caduser@123\", \"log_prefix\": \"15\"},\n",
    "    \"cadencea14@172.16.121.84\": {\"password\": \"caduser@123\", \"log_prefix\": \"14\"},\n",
    "    \"imt2022556_nishit@172.16.121.37\": {\"password\": \"$@Rl@1234\", \"log_prefix\": \"sarl\"},\n",
    "}\n",
    "\n",
    "remote_subfolders = [\"array_4096_1\", \"array_4096_2\"]\n",
    "local_file = \"modify_rtl.py\"\n",
    "\n",
    "# ---------------- FUNCTIONS ---------------- #\n",
    "\n",
    "def send_file_and_install(user_host, password, subfolder):\n",
    "    user, host = user_host.split(\"@\")\n",
    "    remote_path = f\"/home/{user}/Documents/strassen/{subfolder}\"\n",
    "\n",
    "    # Step 1: Send modify_rtl.py\n",
    "    print(f\"\\n📤 Sending {local_file} to {user_host}:{remote_path}/\")\n",
    "    scp_cmd = [\n",
    "        \"sshpass\", \"-p\", password,\n",
    "        \"scp\", \"-o\", \"StrictHostKeyChecking=no\", local_file,\n",
    "        f\"{user_host}:{remote_path}/\"\n",
    "    ]\n",
    "\n",
    "    try:\n",
    "        subprocess.run(scp_cmd, check=True)\n",
    "        print(\"✅ File sent.\")\n",
    "    except subprocess.CalledProcessError:\n",
    "        print(\"❌ File transfer failed.\")\n",
    "        return\n",
    "\n",
    "    # Step 2: Install numpy\n",
    "    print(f\"📦 Installing numpy on {user_host}...\")\n",
    "    ssh_cmd = [\n",
    "        \"sshpass\", \"-p\", password,\n",
    "        \"ssh\", \"-o\", \"StrictHostKeyChecking=no\",\n",
    "        f\"{user_host}\",\n",
    "        \"pip3 install --user numpy\"\n",
    "    ]\n",
    "\n",
    "    try:\n",
    "        subprocess.run(ssh_cmd, check=True)\n",
    "        print(\"✅ Numpy installed.\")\n",
    "    except subprocess.CalledProcessError:\n",
    "        print(\"❌ Failed to install numpy.\")\n",
    "\n",
    "# ---------------- EXECUTION ---------------- #\n",
    "\n",
    "for user_host, config in remote_configs.items():\n",
    "    for subfolder in remote_subfolders:\n",
    "        send_file_and_install(user_host, config[\"password\"], subfolder)\n"
   ]
  },
  {
   "cell_type": "markdown",
   "id": "1e3e0134",
   "metadata": {},
   "source": [
    "# Broadcast 30MiB top.v main code"
   ]
  },
  {
   "cell_type": "code",
   "execution_count": null,
   "id": "2dc338c5",
   "metadata": {},
   "outputs": [
    {
     "name": "stdout",
     "output_type": "stream",
     "text": [
      "📤 Sending ./gen/1/rtl/top.v → cadencea12@172.16.121.82:/home/cadencea12/Documents/strassen/array_config_1/rtl/\n"
     ]
    },
    {
     "name": "stderr",
     "output_type": "stream",
     "text": [
      "Warning: Permanently added '172.16.121.82' (ED25519) to the list of known hosts.\n"
     ]
    },
    {
     "name": "stdout",
     "output_type": "stream",
     "text": [
      "✅ Overwrote top.v in array_config_1/rtl on cadencea12@172.16.121.82\n",
      "📤 Sending ./gen/1/rtl/top.v → cadencea12@172.16.121.82:/home/cadencea12/Documents/strassen/array_config_2/rtl/\n"
     ]
    },
    {
     "name": "stderr",
     "output_type": "stream",
     "text": [
      "Warning: Permanently added '172.16.121.82' (ED25519) to the list of known hosts.\n"
     ]
    },
    {
     "name": "stdout",
     "output_type": "stream",
     "text": [
      "✅ Overwrote top.v in array_config_2/rtl on cadencea12@172.16.121.82\n",
      "📤 Sending ./gen/1/rtl/top.v → cadencea1@172.16.121.72:/home/cadencea1/Documents/strassen/array_config_5/rtl/\n"
     ]
    },
    {
     "name": "stderr",
     "output_type": "stream",
     "text": [
      "Warning: Permanently added '172.16.121.72' (ED25519) to the list of known hosts.\n"
     ]
    },
    {
     "name": "stdout",
     "output_type": "stream",
     "text": [
      "✅ Overwrote top.v in array_config_5/rtl on cadencea1@172.16.121.72\n",
      "📤 Sending ./gen/1/rtl/top.v → cadencea1@172.16.121.72:/home/cadencea1/Documents/strassen/array_config_6/rtl/\n"
     ]
    },
    {
     "name": "stderr",
     "output_type": "stream",
     "text": [
      "Warning: Permanently added '172.16.121.72' (ED25519) to the list of known hosts.\n"
     ]
    },
    {
     "name": "stdout",
     "output_type": "stream",
     "text": [
      "✅ Overwrote top.v in array_config_6/rtl on cadencea1@172.16.121.72\n",
      "📤 Sending ./gen/1/rtl/top.v → cadencea8@172.16.121.78:/home/cadencea8/Documents/strassen/array_config_7/rtl/\n"
     ]
    },
    {
     "name": "stderr",
     "output_type": "stream",
     "text": [
      "Warning: Permanently added '172.16.121.78' (ED25519) to the list of known hosts.\n"
     ]
    },
    {
     "name": "stdout",
     "output_type": "stream",
     "text": [
      "✅ Overwrote top.v in array_config_7/rtl on cadencea8@172.16.121.78\n",
      "📤 Sending ./gen/1/rtl/top.v → cadencea8@172.16.121.78:/home/cadencea8/Documents/strassen/array_config_8/rtl/\n"
     ]
    },
    {
     "name": "stderr",
     "output_type": "stream",
     "text": [
      "Warning: Permanently added '172.16.121.78' (ED25519) to the list of known hosts.\n"
     ]
    },
    {
     "name": "stdout",
     "output_type": "stream",
     "text": [
      "✅ Overwrote top.v in array_config_8/rtl on cadencea8@172.16.121.78\n",
      "📤 Sending ./gen/1/rtl/top.v → cadencea10@172.16.121.80:/home/cadencea10/Documents/strassen/array_config_9/rtl/\n"
     ]
    },
    {
     "name": "stderr",
     "output_type": "stream",
     "text": [
      "Warning: Permanently added '172.16.121.80' (ED25519) to the list of known hosts.\n"
     ]
    },
    {
     "name": "stdout",
     "output_type": "stream",
     "text": [
      "✅ Overwrote top.v in array_config_9/rtl on cadencea10@172.16.121.80\n",
      "📤 Sending ./gen/1/rtl/top.v → cadencea10@172.16.121.80:/home/cadencea10/Documents/strassen/array_config_10/rtl/\n"
     ]
    },
    {
     "name": "stderr",
     "output_type": "stream",
     "text": [
      "Warning: Permanently added '172.16.121.80' (ED25519) to the list of known hosts.\n"
     ]
    },
    {
     "name": "stdout",
     "output_type": "stream",
     "text": [
      "✅ Overwrote top.v in array_config_10/rtl on cadencea10@172.16.121.80\n",
      "📤 Sending ./gen/1/rtl/top.v → cadencea15@172.16.121.6:/home/cadencea15/Documents/strassen/array_config_11/rtl/\n"
     ]
    },
    {
     "name": "stderr",
     "output_type": "stream",
     "text": [
      "Warning: Permanently added '172.16.121.6' (ED25519) to the list of known hosts.\n"
     ]
    },
    {
     "name": "stdout",
     "output_type": "stream",
     "text": [
      "✅ Overwrote top.v in array_config_11/rtl on cadencea15@172.16.121.6\n",
      "📤 Sending ./gen/1/rtl/top.v → cadencea15@172.16.121.6:/home/cadencea15/Documents/strassen/array_config_12/rtl/\n"
     ]
    },
    {
     "name": "stderr",
     "output_type": "stream",
     "text": [
      "Warning: Permanently added '172.16.121.6' (ED25519) to the list of known hosts.\n"
     ]
    },
    {
     "name": "stdout",
     "output_type": "stream",
     "text": [
      "✅ Overwrote top.v in array_config_12/rtl on cadencea15@172.16.121.6\n",
      "📤 Sending ./gen/1/rtl/top.v → cadencea14@172.16.121.84:/home/cadencea14/Documents/strassen/array_config_13/rtl/\n"
     ]
    },
    {
     "name": "stderr",
     "output_type": "stream",
     "text": [
      "Warning: Permanently added '172.16.121.84' (ED25519) to the list of known hosts.\n"
     ]
    },
    {
     "name": "stdout",
     "output_type": "stream",
     "text": [
      "✅ Overwrote top.v in array_config_13/rtl on cadencea14@172.16.121.84\n",
      "📤 Sending ./gen/1/rtl/top.v → cadencea14@172.16.121.84:/home/cadencea14/Documents/strassen/array_config_14/rtl/\n"
     ]
    },
    {
     "name": "stderr",
     "output_type": "stream",
     "text": [
      "Warning: Permanently added '172.16.121.84' (ED25519) to the list of known hosts.\n"
     ]
    },
    {
     "name": "stdout",
     "output_type": "stream",
     "text": [
      "✅ Overwrote top.v in array_config_14/rtl on cadencea14@172.16.121.84\n",
      "📤 Sending ./gen/1/rtl/top.v → imt2022556_nishit@172.16.121.37:/home/imt2022556_nishit/Documents/strassen/array_config_3/rtl/\n"
     ]
    },
    {
     "name": "stderr",
     "output_type": "stream",
     "text": [
      "Warning: Permanently added '172.16.121.37' (ED25519) to the list of known hosts.\n"
     ]
    },
    {
     "name": "stdout",
     "output_type": "stream",
     "text": [
      "✅ Overwrote top.v in array_config_3/rtl on imt2022556_nishit@172.16.121.37\n",
      "📤 Sending ./gen/1/rtl/top.v → imt2022556_nishit@172.16.121.37:/home/imt2022556_nishit/Documents/strassen/array_config_4/rtl/\n"
     ]
    },
    {
     "name": "stderr",
     "output_type": "stream",
     "text": [
      "Warning: Permanently added '172.16.121.37' (ED25519) to the list of known hosts.\n"
     ]
    },
    {
     "name": "stdout",
     "output_type": "stream",
     "text": [
      "✅ Overwrote top.v in array_config_4/rtl on imt2022556_nishit@172.16.121.37\n"
     ]
    }
   ],
   "source": [
    "import subprocess\n",
    "\n",
    "remote_configs = {\n",
    "    \"cadencea12@172.16.121.82\": {\"password\": \"caduser@123\", \"subdir\": [\"array_config_1\", \"array_config_2\"]},\n",
    "    \"cadencea1@172.16.121.72\": {\"password\": \"caduser@123\", \"subdir\": [\"array_config_5\", \"array_config_6\"]},\n",
    "    \"cadencea8@172.16.121.78\": {\"password\": \"caduser@123\", \"subdir\": [\"array_config_7\", \"array_config_8\"]},\n",
    "    \"cadencea10@172.16.121.80\": {\"password\": \"caduser@123\", \"subdir\": [\"array_config_9\", \"array_config_10\"]},\n",
    "    \"cadencea15@172.16.121.6\": {\"password\": \"caduser@123\", \"subdir\": [\"array_config_11\", \"array_config_12\"]},\n",
    "    \"cadencea14@172.16.121.84\": {\"password\": \"caduser@123\", \"subdir\": [\"array_config_13\", \"array_config_14\"]},\n",
    "    \"imt2022556_nishit@172.16.121.37\": {\"password\": \"$@Rl@1234\", \"subdir\": [\"array_config_3\", \"array_config_4\"]},\n",
    "}\n",
    "\n",
    "local_file = \"./gen/1/rtl/top.v\" # 30 MiB rtl code\n",
    "\n",
    "for user_host, config in remote_configs.items():\n",
    "    remote_user, remote_host = user_host.split(\"@\")\n",
    "    password = config[\"password\"]\n",
    "    \n",
    "    for subdir in config[\"subdir\"]:\n",
    "        remote_path = f\"/home/{remote_user}/Documents/strassen/{subdir}/rtl/\"\n",
    "        print(f\"📤 Sending {local_file} → {user_host}:{remote_path}\")\n",
    "\n",
    "        scp_command = [\n",
    "            \"sshpass\", \"-p\", password,\n",
    "            \"scp\",\n",
    "            \"-o\", \"StrictHostKeyChecking=no\",\n",
    "            \"-o\", \"UserKnownHostsFile=/dev/null\",\n",
    "            local_file,\n",
    "            f\"{remote_user}@{remote_host}:{remote_path}\"\n",
    "        ]\n",
    "\n",
    "        result = subprocess.run(scp_command)\n",
    "        if result.returncode == 0:\n",
    "            print(f\"✅ Overwrote top.v in {subdir}/rtl on {user_host}\")\n",
    "        else:\n",
    "            print(f\"❌ Failed to copy top.v to {user_host}:{remote_path}\")\n"
   ]
  },
  {
   "cell_type": "markdown",
   "id": "351a82d7",
   "metadata": {},
   "source": [
    "# get_metrics.py to be broadcasted to all remotes"
   ]
  },
  {
   "cell_type": "code",
   "execution_count": null,
   "id": "cb3cdb46",
   "metadata": {},
   "outputs": [],
   "source": [
    "import re\n",
    "import csv\n",
    "\n",
    "def extract_metrics(area_file, power_file, delay_file):\n",
    "    # AREA\n",
    "    with open(area_file, 'r') as f:\n",
    "        area_text = f.read()\n",
    "    area_match = re.search(r\"total\\s+\\d+\\s+([\\d.]+)\", area_text.strip().splitlines()[-1])\n",
    "    area = float(area_match.group(1)) if area_match else None\n",
    "\n",
    "    # POWER\n",
    "    with open(power_file, 'r') as f:\n",
    "        power_text = f.read()\n",
    "    power_match = re.search(r\"Subtotal\\s+(?:\\S+\\s+){3}(\\S+)\", power_text)\n",
    "    power = float(power_match.group(1)) if power_match else None\n",
    "\n",
    "    # DELAY\n",
    "    with open(delay_file, 'r') as f:\n",
    "        delay_text = f.read()\n",
    "    delay_match = re.search(r\"^\\s*C_out_reg\\[\\d+\\]/D.*?(\\d+)\\s*$\", delay_text, re.MULTILINE)\n",
    "    delay = int(delay_match.group(1)) if delay_match else None\n",
    "\n",
    "    return area, power, delay\n",
    "\n",
    "\n",
    "area_file = './reports/SystolicArray/45nm/opt/syn_opt_gates.txt'\n",
    "power_file = './reports/SystolicArray/45nm/opt/syn_opt_power.txt'\n",
    "delay_file = './reports/SystolicArray/45nm/opt/syn_opt_timing.txt'\n",
    "\n",
    "area, power, delay = extract_metrics(area_file, power_file, delay_file)\n",
    "print(f\"Area  : {area}\")\n",
    "print(f\"Power : {power}\")\n",
    "print(f\"Delay : {delay}\")\n",
    "\n",
    "with open(\"metrics.csv\", \"w\", newline=\"\") as f:\n",
    "    writer = csv.writer(f)\n",
    "    writer.writerow([\"area\", \"power\", \"delay\"])\n",
    "    writer.writerow([area, power, delay])"
   ]
  },
  {
   "cell_type": "markdown",
   "id": "aecb7290",
   "metadata": {},
   "source": [
    "# Broadcaster : Send data to all remotes"
   ]
  },
  {
   "cell_type": "code",
   "execution_count": null,
   "id": "a48b0d5c",
   "metadata": {},
   "outputs": [],
   "source": [
    "import subprocess\n",
    "import os\n",
    "\n",
    "# ------------------------- CONFIGURABLE SECTION ------------------------- #\n",
    "remote_configs = {\n",
    "    # lagging system ( needs to push along using ipc )\n",
    "    # \"cadencea19@172.16.121.14\": {\"password\": \"caduser@123\", \"enabled\": True},\n",
    "    # \"cadencea22@172.16.121.25\": {\"password\": \"caduser@123\", \"enabled\": True},\n",
    "    # \"cadencea6@172.16.121.66\": {\"password\": \"caduser@123\", \"enabled\": True},\n",
    "    # \"cadencea24@172.16.121.30\": {\"password\": \"caduser@123\", \"enabled\": True},\n",
    "    # \"cadencea16@172.16.121.75\": {\"password\": \"caduser@123\", \"enabled\": True},\n",
    "    # \"cadencea2@172.16.121.8\": {\"password\": \"caduser@123\", \"enabled\": True},\n",
    "    # \"cadencea18@172.16.121.11\": {\"password\": \"caduser@123\", \"enabled\": True},\n",
    "\n",
    "\n",
    "    # Flawless systems\n",
    "    \"cadencea12@172.16.121.82\": {\"password\": \"caduser@123\", \"enabled\": True},\n",
    "    \"cadencea1@172.16.121.72\": {\"password\": \"caduser@123\", \"enabled\": True},\n",
    "    \"cadencea8@172.16.121.78\": {\"password\": \"caduser@123\", \"enabled\": True},\n",
    "    \"imt2022556_nishit@172.16.121.37\": {\"password\": \"$@Rl@1234\", \"enabled\": True},\n",
    "\n",
    "    # Tested and working\n",
    "    \"cadencea15@172.16.121.6\": {\"password\": \"caduser@123\", \"enabled\": True},\n",
    "    \"cadencea14@172.16.121.84\": {\"password\": \"caduser@123\", \"enabled\": True},\n",
    "    \"cadencea10@172.16.121.80\": {\"password\": \"caduser@123\", \"enabled\": True},\n",
    "}\n",
    "\n",
    "# ------------------------- FUNCTIONAL SECTION ------------------------- #\n",
    "\n",
    "def broadcast(local_path, remote_path, post_commands):\n",
    "    \"\"\"\n",
    "    Broadcast a local file/folder to multiple remote servers and run commands\n",
    "    \"\"\"\n",
    "    if not os.path.exists(local_path):\n",
    "        print(f\"❌ Path '{local_path}' does not exist!\")\n",
    "        return\n",
    "\n",
    "    for user_host, config in remote_configs.items():\n",
    "        if not config.get(\"enabled\", False):\n",
    "            print(f\"⏩ Skipping {user_host} (disabled)\")\n",
    "            continue\n",
    "\n",
    "        password = config[\"password\"]\n",
    "        user, host = user_host.split(\"@\")\n",
    "\n",
    "        print(f\"\\n📡 Sending to {user_host}...\")\n",
    "\n",
    "        # Use rsync for folders, scp for files\n",
    "        is_folder = os.path.isdir(local_path)\n",
    "        if is_folder:\n",
    "            scp_cmd = [\n",
    "                \"sshpass\", \"-p\", password,\n",
    "                \"rsync\", \"-avz\", \"-e\", \"ssh -o StrictHostKeyChecking=no\",\n",
    "                local_path + \"/\", f\"{user_host}:{remote_path}/\"\n",
    "            ]\n",
    "        else:\n",
    "            scp_cmd = [\n",
    "                \"sshpass\", \"-p\", password,\n",
    "                \"scp\", \"-o\", \"StrictHostKeyChecking=no\",\n",
    "                local_path, f\"{user_host}:{remote_path}/\"\n",
    "            ]\n",
    "\n",
    "        try:\n",
    "            subprocess.run(scp_cmd, check=True)\n",
    "            print(f\"✅ File/folder copied to {remote_path}/\")\n",
    "\n",
    "            for cmd in post_commands:\n",
    "                remote_command = f\"cd {remote_path} && {cmd}\"\n",
    "                ssh_cmd = [\n",
    "                    \"sshpass\", \"-p\", password,\n",
    "                    \"ssh\", \"-o\", \"StrictHostKeyChecking=no\",\n",
    "                    user_host,\n",
    "                    remote_command\n",
    "                ]\n",
    "                print(f\"🚀 Running: {cmd}\")\n",
    "                subprocess.run(ssh_cmd, check=True)\n",
    "            print(f\"✅ Commands finished on {user_host}\")\n",
    "\n",
    "        except subprocess.CalledProcessError as e:\n",
    "            print(f\"❌ Failed on {user_host}: {e}\")\n",
    "\n",
    "# ------------------------- USAGE EXAMPLES ------------------------- #\n",
    "\n",
    "if __name__ == \"__main__\":\n",
    "    pass\n",
    "\n",
    "    ### ======== TASK 1: Broadcast get_metrics.py to 2 folders on selected servers ========\n",
    "\n",
    "    # local_file = \"/home/nira/Downloads/get_metrics.py\"\n",
    "    # remote_subfolders = [\"array_4096_1\", \"array_4096_2\"]\n",
    "\n",
    "    # for subfolder in remote_subfolders:\n",
    "    #     remote_dir = f\"/home/{{user}}/Documents/strassen/{subfolder}\"\n",
    "\n",
    "    #     # Dynamically replace user in path\n",
    "    #     for user_host in remote_configs:\n",
    "    #         if not remote_configs[user_host][\"enabled\"]:\n",
    "    #             continue\n",
    "    #         user = user_host.split(\"@\")[0]\n",
    "    #         path = remote_dir.replace(\"{user}\", user)\n",
    "\n",
    "    #         print(f\"\\n🚚 Broadcasting get_metrics.py to {user_host}:{path}\")\n",
    "    #         broadcast(\n",
    "    #             local_path=local_file,\n",
    "    #             remote_path=path,\n",
    "    #             post_commands=[]\n",
    "    #         )\n",
    "\n",
    "    ### ======== TASK 2: Broadcast and unzip CIFAR zip ========\n",
    "\n",
    "    # local_zip = \"/home/nira/Downloads/cifar_python_strassen_final.zip\"\n",
    "    # remote_strassen_dir = f\"/home/{{user}}/Documents/strassen\"\n",
    "\n",
    "    # unzip_commands = [\n",
    "    #     \"unzip -o cifar_python_strassen_final.zip\",\n",
    "    #     \"rm -rf cifar_python_strassen_final.zip\"\n",
    "    # ]\n",
    "\n",
    "    # for user_host in remote_configs:\n",
    "    #     if not remote_configs[user_host][\"enabled\"]:\n",
    "    #         continue\n",
    "    #     user = user_host.split(\"@\")[0]\n",
    "    #     path = remote_strassen_dir.replace(\"{user}\", user)\n",
    "\n",
    "    #     print(f\"\\n🚚 Broadcasting CIFAR zip to {user_host}:{path}\")\n",
    "    #     broadcast(\n",
    "    #         local_path=local_zip,\n",
    "    #         remote_path=path,\n",
    "    #         post_commands=unzip_commands\n",
    "    #     )\n"
   ]
  },
  {
   "cell_type": "markdown",
   "id": "b5636f45",
   "metadata": {},
   "source": [
    "# Broadcast : Commands to run on all remotes "
   ]
  },
  {
   "cell_type": "code",
   "execution_count": 1,
   "id": "8c59febd",
   "metadata": {},
   "outputs": [
    {
     "name": "stderr",
     "output_type": "stream",
     "text": [
      "Warning: Permanently added '172.16.121.82' (ED25519) to the list of known hosts.\n"
     ]
    },
    {
     "name": "stdout",
     "output_type": "stream",
     "text": [
      "🔧 Appending 'exit' to: cadencea12@172.16.121.82:/home/cadencea12/Documents/strassen/array_4096_1/script.tcl\n",
      "✅ Done: /home/cadencea12/Documents/strassen/array_4096_1/script.tcl\n",
      "🔧 Appending 'exit' to: cadencea12@172.16.121.82:/home/cadencea12/Documents/strassen/array_4096_2/script.tcl\n"
     ]
    },
    {
     "name": "stderr",
     "output_type": "stream",
     "text": [
      "Warning: Permanently added '172.16.121.82' (ED25519) to the list of known hosts.\n"
     ]
    },
    {
     "name": "stdout",
     "output_type": "stream",
     "text": [
      "✅ Done: /home/cadencea12/Documents/strassen/array_4096_2/script.tcl\n",
      "🔧 Appending 'exit' to: cadencea1@172.16.121.72:/home/cadencea1/Documents/strassen/array_4096_1/script.tcl\n"
     ]
    },
    {
     "name": "stderr",
     "output_type": "stream",
     "text": [
      "Warning: Permanently added '172.16.121.72' (ED25519) to the list of known hosts.\n"
     ]
    },
    {
     "name": "stdout",
     "output_type": "stream",
     "text": [
      "✅ Done: /home/cadencea1/Documents/strassen/array_4096_1/script.tcl\n",
      "🔧 Appending 'exit' to: cadencea1@172.16.121.72:/home/cadencea1/Documents/strassen/array_4096_2/script.tcl\n"
     ]
    },
    {
     "name": "stderr",
     "output_type": "stream",
     "text": [
      "Warning: Permanently added '172.16.121.72' (ED25519) to the list of known hosts.\n"
     ]
    },
    {
     "name": "stdout",
     "output_type": "stream",
     "text": [
      "✅ Done: /home/cadencea1/Documents/strassen/array_4096_2/script.tcl\n",
      "🔧 Appending 'exit' to: cadencea8@172.16.121.78:/home/cadencea8/Documents/strassen/array_4096_1/script.tcl\n",
      "✅ Done: /home/cadencea8/Documents/strassen/array_4096_1/script.tcl\n",
      "🔧 Appending 'exit' to: cadencea8@172.16.121.78:/home/cadencea8/Documents/strassen/array_4096_2/script.tcl\n"
     ]
    },
    {
     "name": "stderr",
     "output_type": "stream",
     "text": [
      "Warning: Permanently added '172.16.121.78' (ED25519) to the list of known hosts.\n",
      "Warning: Permanently added '172.16.121.78' (ED25519) to the list of known hosts.\n"
     ]
    },
    {
     "name": "stdout",
     "output_type": "stream",
     "text": [
      "✅ Done: /home/cadencea8/Documents/strassen/array_4096_2/script.tcl\n",
      "🔧 Appending 'exit' to: imt2022556_nishit@172.16.121.37:/home/imt2022556_nishit/Documents/strassen/array_4096_1/script.tcl\n"
     ]
    },
    {
     "name": "stderr",
     "output_type": "stream",
     "text": [
      "Warning: Permanently added '172.16.121.37' (ED25519) to the list of known hosts.\n"
     ]
    },
    {
     "name": "stdout",
     "output_type": "stream",
     "text": [
      "✅ Done: /home/imt2022556_nishit/Documents/strassen/array_4096_1/script.tcl\n",
      "🔧 Appending 'exit' to: imt2022556_nishit@172.16.121.37:/home/imt2022556_nishit/Documents/strassen/array_4096_2/script.tcl\n"
     ]
    },
    {
     "name": "stderr",
     "output_type": "stream",
     "text": [
      "Warning: Permanently added '172.16.121.37' (ED25519) to the list of known hosts.\n"
     ]
    },
    {
     "name": "stdout",
     "output_type": "stream",
     "text": [
      "✅ Done: /home/imt2022556_nishit/Documents/strassen/array_4096_2/script.tcl\n",
      "🔧 Appending 'exit' to: cadencea15@172.16.121.6:/home/cadencea15/Documents/strassen/array_4096_1/script.tcl\n"
     ]
    },
    {
     "name": "stderr",
     "output_type": "stream",
     "text": [
      "Warning: Permanently added '172.16.121.6' (ED25519) to the list of known hosts.\n"
     ]
    },
    {
     "name": "stdout",
     "output_type": "stream",
     "text": [
      "✅ Done: /home/cadencea15/Documents/strassen/array_4096_1/script.tcl\n",
      "🔧 Appending 'exit' to: cadencea15@172.16.121.6:/home/cadencea15/Documents/strassen/array_4096_2/script.tcl\n"
     ]
    },
    {
     "name": "stderr",
     "output_type": "stream",
     "text": [
      "Warning: Permanently added '172.16.121.6' (ED25519) to the list of known hosts.\n"
     ]
    },
    {
     "name": "stdout",
     "output_type": "stream",
     "text": [
      "✅ Done: /home/cadencea15/Documents/strassen/array_4096_2/script.tcl\n",
      "🔧 Appending 'exit' to: cadencea14@172.16.121.84:/home/cadencea14/Documents/strassen/array_4096_1/script.tcl\n",
      "✅ Done: /home/cadencea14/Documents/strassen/array_4096_1/script.tcl\n",
      "🔧 Appending 'exit' to: cadencea14@172.16.121.84:/home/cadencea14/Documents/strassen/array_4096_2/script.tcl\n"
     ]
    },
    {
     "name": "stderr",
     "output_type": "stream",
     "text": [
      "Warning: Permanently added '172.16.121.84' (ED25519) to the list of known hosts.\n",
      "Warning: Permanently added '172.16.121.84' (ED25519) to the list of known hosts.\n"
     ]
    },
    {
     "name": "stdout",
     "output_type": "stream",
     "text": [
      "✅ Done: /home/cadencea14/Documents/strassen/array_4096_2/script.tcl\n",
      "🔧 Appending 'exit' to: cadencea10@172.16.121.80:/home/cadencea10/Documents/strassen/array_4096_1/script.tcl\n",
      "✅ Done: /home/cadencea10/Documents/strassen/array_4096_1/script.tcl\n",
      "🔧 Appending 'exit' to: cadencea10@172.16.121.80:/home/cadencea10/Documents/strassen/array_4096_2/script.tcl\n"
     ]
    },
    {
     "name": "stderr",
     "output_type": "stream",
     "text": [
      "Warning: Permanently added '172.16.121.80' (ED25519) to the list of known hosts.\n",
      "Warning: Permanently added '172.16.121.80' (ED25519) to the list of known hosts.\n"
     ]
    },
    {
     "name": "stdout",
     "output_type": "stream",
     "text": [
      "✅ Done: /home/cadencea10/Documents/strassen/array_4096_2/script.tcl\n"
     ]
    }
   ],
   "source": [
    "# Python Script: Append exit to Remote script.tcl\n",
    "\n",
    "import subprocess\n",
    "\n",
    "remote_configs = {\n",
    "    # Flawless systems\n",
    "    \"cadencea12@172.16.121.82\": {\"password\": \"caduser@123\", \"enabled\": True},\n",
    "    \"cadencea1@172.16.121.72\": {\"password\": \"caduser@123\", \"enabled\": True},\n",
    "    \"cadencea8@172.16.121.78\": {\"password\": \"caduser@123\", \"enabled\": True},\n",
    "    \"imt2022556_nishit@172.16.121.37\": {\"password\": \"$@Rl@1234\", \"enabled\": True},\n",
    "\n",
    "    # Tested and working\n",
    "    \"cadencea15@172.16.121.6\": {\"password\": \"caduser@123\", \"enabled\": True},\n",
    "    \"cadencea14@172.16.121.84\": {\"password\": \"caduser@123\", \"enabled\": True},\n",
    "    \"cadencea10@172.16.121.80\": {\"password\": \"caduser@123\", \"enabled\": True},\n",
    "}\n",
    "\n",
    "remote_subfolders = [\"array_4096_1\", \"array_4096_2\"]\n",
    "\n",
    "for user_host, config in remote_configs.items():\n",
    "    if not config.get(\"enabled\", False):\n",
    "        continue\n",
    "\n",
    "    user, host = user_host.split(\"@\")\n",
    "    password = config[\"password\"]\n",
    "\n",
    "    for subfolder in remote_subfolders:\n",
    "        remote_file = f\"/home/{user}/Documents/strassen/{subfolder}/script.tcl\"\n",
    "\n",
    "        # The command ensures `exit` is only appended if it's not already present\n",
    "        remote_cmd = f\"\"\"bash -c 'grep -qxF \"exit\" {remote_file} || echo exit >> {remote_file}'\"\"\"\n",
    "\n",
    "        full_command = [\n",
    "            \"sshpass\", \"-p\", password,\n",
    "            \"ssh\", \"-o\", \"StrictHostKeyChecking=no\",\n",
    "            \"-o\", \"UserKnownHostsFile=/dev/null\",\n",
    "            f\"{user}@{host}\",\n",
    "            remote_cmd\n",
    "        ]\n",
    "\n",
    "        print(f\"🔧 Appending 'exit' to: {user_host}:{remote_file}\")\n",
    "        try:\n",
    "            subprocess.run(full_command, check=True)\n",
    "            print(f\"✅ Done: {remote_file}\")\n",
    "        except subprocess.CalledProcessError as e:\n",
    "            print(f\"❌ Failed on {user_host}:{remote_file} → {e}\")\n"
   ]
  },
  {
   "cell_type": "markdown",
   "id": "0ebe0528",
   "metadata": {},
   "source": [
    "# Broadcast a file but change one line in the file DEPENDING on the remote we are sending to"
   ]
  },
  {
   "cell_type": "code",
   "execution_count": 3,
   "id": "45b75aad",
   "metadata": {},
   "outputs": [
    {
     "name": "stdout",
     "output_type": "stream",
     "text": [
      "📤 Sending temp_array_config_1.py → cadencea12@172.16.121.82:/home/cadencea12/Documents/strassen/array_config_1/\n"
     ]
    },
    {
     "name": "stderr",
     "output_type": "stream",
     "text": [
      "Warning: Permanently added '172.16.121.82' (ED25519) to the list of known hosts.\n"
     ]
    },
    {
     "name": "stdout",
     "output_type": "stream",
     "text": [
      "✅ Sent customized script for array_config_1\n",
      "📤 Sending temp_array_config_2.py → cadencea12@172.16.121.82:/home/cadencea12/Documents/strassen/array_config_2/\n",
      "✅ Sent customized script for array_config_2\n",
      "📤 Sending temp_array_config_5.py → cadencea1@172.16.121.72:/home/cadencea1/Documents/strassen/array_config_5/\n"
     ]
    },
    {
     "name": "stderr",
     "output_type": "stream",
     "text": [
      "Warning: Permanently added '172.16.121.82' (ED25519) to the list of known hosts.\n",
      "Warning: Permanently added '172.16.121.72' (ED25519) to the list of known hosts.\n"
     ]
    },
    {
     "name": "stdout",
     "output_type": "stream",
     "text": [
      "✅ Sent customized script for array_config_5\n",
      "📤 Sending temp_array_config_6.py → cadencea1@172.16.121.72:/home/cadencea1/Documents/strassen/array_config_6/\n",
      "✅ Sent customized script for array_config_6\n",
      "📤 Sending temp_array_config_7.py → cadencea8@172.16.121.78:/home/cadencea8/Documents/strassen/array_config_7/\n"
     ]
    },
    {
     "name": "stderr",
     "output_type": "stream",
     "text": [
      "Warning: Permanently added '172.16.121.72' (ED25519) to the list of known hosts.\n",
      "Warning: Permanently added '172.16.121.78' (ED25519) to the list of known hosts.\n"
     ]
    },
    {
     "name": "stdout",
     "output_type": "stream",
     "text": [
      "✅ Sent customized script for array_config_7\n",
      "📤 Sending temp_array_config_8.py → cadencea8@172.16.121.78:/home/cadencea8/Documents/strassen/array_config_8/\n",
      "✅ Sent customized script for array_config_8\n",
      "📤 Sending temp_array_config_9.py → cadencea10@172.16.121.80:/home/cadencea10/Documents/strassen/array_config_9/\n"
     ]
    },
    {
     "name": "stderr",
     "output_type": "stream",
     "text": [
      "Warning: Permanently added '172.16.121.78' (ED25519) to the list of known hosts.\n",
      "Warning: Permanently added '172.16.121.80' (ED25519) to the list of known hosts.\n"
     ]
    },
    {
     "name": "stdout",
     "output_type": "stream",
     "text": [
      "✅ Sent customized script for array_config_9\n",
      "📤 Sending temp_array_config_10.py → cadencea10@172.16.121.80:/home/cadencea10/Documents/strassen/array_config_10/\n",
      "✅ Sent customized script for array_config_10\n",
      "📤 Sending temp_array_config_11.py → cadencea15@172.16.121.6:/home/cadencea15/Documents/strassen/array_config_11/\n"
     ]
    },
    {
     "name": "stderr",
     "output_type": "stream",
     "text": [
      "Warning: Permanently added '172.16.121.80' (ED25519) to the list of known hosts.\n",
      "Warning: Permanently added '172.16.121.6' (ED25519) to the list of known hosts.\n"
     ]
    },
    {
     "name": "stdout",
     "output_type": "stream",
     "text": [
      "✅ Sent customized script for array_config_11\n",
      "📤 Sending temp_array_config_12.py → cadencea15@172.16.121.6:/home/cadencea15/Documents/strassen/array_config_12/\n",
      "✅ Sent customized script for array_config_12\n",
      "📤 Sending temp_array_config_13.py → cadencea14@172.16.121.84:/home/cadencea14/Documents/strassen/array_config_13/\n"
     ]
    },
    {
     "name": "stderr",
     "output_type": "stream",
     "text": [
      "Warning: Permanently added '172.16.121.6' (ED25519) to the list of known hosts.\n",
      "Warning: Permanently added '172.16.121.84' (ED25519) to the list of known hosts.\n"
     ]
    },
    {
     "name": "stdout",
     "output_type": "stream",
     "text": [
      "✅ Sent customized script for array_config_13\n",
      "📤 Sending temp_array_config_14.py → cadencea14@172.16.121.84:/home/cadencea14/Documents/strassen/array_config_14/\n",
      "✅ Sent customized script for array_config_14\n",
      "📤 Sending temp_array_config_3.py → imt2022556_nishit@172.16.121.37:/home/imt2022556_nishit/Documents/strassen/array_config_3/\n"
     ]
    },
    {
     "name": "stderr",
     "output_type": "stream",
     "text": [
      "Warning: Permanently added '172.16.121.84' (ED25519) to the list of known hosts.\n",
      "Warning: Permanently added '172.16.121.37' (ED25519) to the list of known hosts.\n"
     ]
    },
    {
     "name": "stdout",
     "output_type": "stream",
     "text": [
      "✅ Sent customized script for array_config_3\n",
      "📤 Sending temp_array_config_4.py → imt2022556_nishit@172.16.121.37:/home/imt2022556_nishit/Documents/strassen/array_config_4/\n",
      "✅ Sent customized script for array_config_4\n"
     ]
    },
    {
     "name": "stderr",
     "output_type": "stream",
     "text": [
      "Warning: Permanently added '172.16.121.37' (ED25519) to the list of known hosts.\n"
     ]
    }
   ],
   "source": [
    "import subprocess\n",
    "import os\n",
    "\n",
    "# Your config\n",
    "remote_configs = {\n",
    "    \"cadencea12@172.16.121.82\": {\"password\": \"caduser@123\", \"subdir\": [\"array_config_1\", \"array_config_2\"]},\n",
    "    \"cadencea1@172.16.121.72\": {\"password\": \"caduser@123\", \"subdir\": [\"array_config_5\", \"array_config_6\"]},\n",
    "    \"cadencea8@172.16.121.78\": {\"password\": \"caduser@123\", \"subdir\": [\"array_config_7\", \"array_config_8\"]},\n",
    "    \"cadencea10@172.16.121.80\": {\"password\": \"caduser@123\", \"subdir\": [\"array_config_9\", \"array_config_10\"]},\n",
    "    \"cadencea15@172.16.121.6\": {\"password\": \"caduser@123\", \"subdir\": [\"array_config_11\", \"array_config_12\"]},\n",
    "    \"cadencea14@172.16.121.84\": {\"password\": \"caduser@123\", \"subdir\": [\"array_config_13\", \"array_config_14\"]},\n",
    "    \"imt2022556_nishit@172.16.121.37\": {\"password\": \"$@Rl@1234\", \"subdir\": [\"array_config_3\", \"array_config_4\"]},\n",
    "}\n",
    "\n",
    "# Load original template file\n",
    "with open(\"approx_mult_modules_automate.py\", \"r\") as f:\n",
    "    original_code = f.readlines()\n",
    "\n",
    "# Loop through each target and send customized file\n",
    "for user_host, info in remote_configs.items():\n",
    "    remote_user, remote_host = user_host.split(\"@\")\n",
    "    password = info[\"password\"]\n",
    "\n",
    "    for subdir in info[\"subdir\"]:\n",
    "        # Modify the line\n",
    "        modified_code = []\n",
    "        for line in original_code:\n",
    "            if line.strip().startswith(\"arr = np.loadtxt(\"):\n",
    "                modified_code.append(f\"arr = np.loadtxt('{subdir}.dat', dtype=np.int8)\\n\")\n",
    "            else:\n",
    "                modified_code.append(line)\n",
    "\n",
    "        # Save the modified file temporarily\n",
    "        temp_filename = f\"temp_{subdir}.py\"\n",
    "        with open(temp_filename, \"w\") as f:\n",
    "            f.writelines(modified_code)\n",
    "\n",
    "        # Construct remote path\n",
    "        remote_path = f\"/home/{remote_user}/Documents/strassen/{subdir}/\"\n",
    "\n",
    "        print(f\"📤 Sending {temp_filename} → {remote_user}@{remote_host}:{remote_path}\")\n",
    "\n",
    "        scp_cmd = [\n",
    "            \"sshpass\", \"-p\", password,\n",
    "            \"scp\",\n",
    "            \"-o\", \"StrictHostKeyChecking=no\",\n",
    "            \"-o\", \"UserKnownHostsFile=/dev/null\",\n",
    "            temp_filename,\n",
    "            f\"{remote_user}@{remote_host}:{remote_path}approx_mult_modules_automate.py\"\n",
    "        ]\n",
    "\n",
    "        result = subprocess.run(scp_cmd)\n",
    "\n",
    "        if result.returncode == 0:\n",
    "            print(f\"✅ Sent customized script for {subdir}\")\n",
    "        else:\n",
    "            print(f\"❌ Failed to send script for {subdir}\")\n",
    "\n",
    "        os.remove(temp_filename)  # Clean up\n"
   ]
  }
 ],
 "metadata": {
  "kernelspec": {
   "display_name": "ml_env",
   "language": "python",
   "name": "python3"
  },
  "language_info": {
   "codemirror_mode": {
    "name": "ipython",
    "version": 3
   },
   "file_extension": ".py",
   "mimetype": "text/x-python",
   "name": "python",
   "nbconvert_exporter": "python",
   "pygments_lexer": "ipython3",
   "version": "3.11.11"
  }
 },
 "nbformat": 4,
 "nbformat_minor": 5
}
