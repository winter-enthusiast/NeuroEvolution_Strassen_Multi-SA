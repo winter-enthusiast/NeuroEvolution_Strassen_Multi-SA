{
 "cells": [
  {
   "cell_type": "code",
   "execution_count": 8,
   "id": "bfb502e1",
   "metadata": {},
   "outputs": [
    {
     "name": "stdout",
     "output_type": "stream",
     "text": [
      "📤 Sending ./gen/1/array_config_1.dat → cadencea12@172.16.121.82:/home/cadencea12/Documents/strassen/array_config_1/array_config_1.dat\n"
     ]
    },
    {
     "name": "stderr",
     "output_type": "stream",
     "text": [
      "Warning: Permanently added '172.16.121.82' (ED25519) to the list of known hosts.\n"
     ]
    },
    {
     "name": "stdout",
     "output_type": "stream",
     "text": [
      "✅ File sent successfully.\n",
      "📤 Sending ./gen/1/array_config_2.dat → cadencea12@172.16.121.82:/home/cadencea12/Documents/strassen/array_config_2/array_config_2.dat\n",
      "✅ File sent successfully.\n",
      "📤 Sending ./gen/1/array_config_3.dat → imt2022556_nishit@172.16.121.37:/home/imt2022556_nishit/Documents/strassen/array_config_3/array_config_3.dat\n"
     ]
    },
    {
     "name": "stderr",
     "output_type": "stream",
     "text": [
      "Warning: Permanently added '172.16.121.82' (ED25519) to the list of known hosts.\n",
      "Warning: Permanently added '172.16.121.37' (ED25519) to the list of known hosts.\n"
     ]
    },
    {
     "name": "stdout",
     "output_type": "stream",
     "text": [
      "✅ File sent successfully.\n",
      "📤 Sending ./gen/1/array_config_4.dat → imt2022556_nishit@172.16.121.37:/home/imt2022556_nishit/Documents/strassen/array_config_4/array_config_4.dat\n",
      "✅ File sent successfully.\n",
      "📤 Sending ./gen/1/array_config_5.dat → cadencea1@172.16.121.72:/home/cadencea1/Documents/strassen/array_config_5/array_config_5.dat\n"
     ]
    },
    {
     "name": "stderr",
     "output_type": "stream",
     "text": [
      "Warning: Permanently added '172.16.121.37' (ED25519) to the list of known hosts.\n",
      "Warning: Permanently added '172.16.121.72' (ED25519) to the list of known hosts.\n"
     ]
    },
    {
     "name": "stdout",
     "output_type": "stream",
     "text": [
      "✅ File sent successfully.\n",
      "📤 Sending ./gen/1/array_config_6.dat → cadencea1@172.16.121.72:/home/cadencea1/Documents/strassen/array_config_6/array_config_6.dat\n",
      "✅ File sent successfully.\n",
      "📤 Sending ./gen/1/array_config_7.dat → cadencea8@172.16.121.78:/home/cadencea8/Documents/strassen/array_config_7/array_config_7.dat\n"
     ]
    },
    {
     "name": "stderr",
     "output_type": "stream",
     "text": [
      "Warning: Permanently added '172.16.121.72' (ED25519) to the list of known hosts.\n",
      "Warning: Permanently added '172.16.121.78' (ED25519) to the list of known hosts.\n"
     ]
    },
    {
     "name": "stdout",
     "output_type": "stream",
     "text": [
      "✅ File sent successfully.\n",
      "📤 Sending ./gen/1/array_config_8.dat → cadencea8@172.16.121.78:/home/cadencea8/Documents/strassen/array_config_8/array_config_8.dat\n",
      "✅ File sent successfully.\n",
      "📤 Sending ./gen/1/array_config_9.dat → cadencea10@172.16.121.80:/home/cadencea10/Documents/strassen/array_config_9/array_config_9.dat\n"
     ]
    },
    {
     "name": "stderr",
     "output_type": "stream",
     "text": [
      "Warning: Permanently added '172.16.121.78' (ED25519) to the list of known hosts.\n",
      "Warning: Permanently added '172.16.121.80' (ED25519) to the list of known hosts.\n"
     ]
    },
    {
     "name": "stdout",
     "output_type": "stream",
     "text": [
      "✅ File sent successfully.\n",
      "📤 Sending ./gen/1/array_config_10.dat → cadencea10@172.16.121.80:/home/cadencea10/Documents/strassen/array_config_10/array_config_10.dat\n",
      "✅ File sent successfully.\n",
      "📤 Sending ./gen/1/array_config_11.dat → cadencea15@172.16.121.6:/home/cadencea15/Documents/strassen/array_config_11/array_config_11.dat\n"
     ]
    },
    {
     "name": "stderr",
     "output_type": "stream",
     "text": [
      "Warning: Permanently added '172.16.121.80' (ED25519) to the list of known hosts.\n",
      "Warning: Permanently added '172.16.121.6' (ED25519) to the list of known hosts.\n"
     ]
    },
    {
     "name": "stdout",
     "output_type": "stream",
     "text": [
      "✅ File sent successfully.\n",
      "📤 Sending ./gen/1/array_config_12.dat → cadencea15@172.16.121.6:/home/cadencea15/Documents/strassen/array_config_12/array_config_12.dat\n",
      "✅ File sent successfully.\n",
      "📤 Sending ./gen/1/array_config_13.dat → cadencea14@172.16.121.84:/home/cadencea14/Documents/strassen/array_config_13/array_config_13.dat\n"
     ]
    },
    {
     "name": "stderr",
     "output_type": "stream",
     "text": [
      "Warning: Permanently added '172.16.121.6' (ED25519) to the list of known hosts.\n",
      "Warning: Permanently added '172.16.121.84' (ED25519) to the list of known hosts.\n"
     ]
    },
    {
     "name": "stdout",
     "output_type": "stream",
     "text": [
      "✅ File sent successfully.\n",
      "📤 Sending ./gen/1/array_config_14.dat → cadencea14@172.16.121.84:/home/cadencea14/Documents/strassen/array_config_14/array_config_14.dat\n",
      "✅ File sent successfully.\n",
      "🚀 Launching job: Config 1 on cadencea12@172.16.121.82 in array_config_1 → ./gen/1/logs/1.log\n",
      "🚀 Launching job: Config 2 on cadencea12@172.16.121.82 in array_config_2 → ./gen/1/logs/2.log\n",
      "🚀 Launching job: Config 3 on imt2022556_nishit@172.16.121.37 in array_config_3 → ./gen/1/logs/3.log\n",
      "🚀 Launching job: Config 4 on imt2022556_nishit@172.16.121.37 in array_config_4 → ./gen/1/logs/4.log\n",
      "🚀 Launching job: Config 5 on cadencea1@172.16.121.72 in array_config_5 → ./gen/1/logs/5.log\n",
      "🚀 Launching job: Config 6 on cadencea1@172.16.121.72 in array_config_6 → ./gen/1/logs/6.log\n",
      "🚀 Launching job: Config 7 on cadencea8@172.16.121.78 in array_config_7 → ./gen/1/logs/7.log\n",
      "🚀 Launching job: Config 8 on cadencea8@172.16.121.78 in array_config_8 → ./gen/1/logs/8.log\n",
      "🚀 Launching job: Config 9 on cadencea10@172.16.121.80 in array_config_9 → ./gen/1/logs/9.log\n",
      "🚀 Launching job: Config 10 on cadencea10@172.16.121.80 in array_config_10 → ./gen/1/logs/10.log\n",
      "🚀 Launching job: Config 11 on cadencea15@172.16.121.6 in array_config_11 → ./gen/1/logs/11.log\n",
      "🚀 Launching job: Config 12 on cadencea15@172.16.121.6 in array_config_12 → ./gen/1/logs/12.log\n",
      "🚀 Launching job: Config 13 on cadencea14@172.16.121.84 in array_config_13 → ./gen/1/logs/13.log\n",
      "🚀 Launching job: Config 14 on cadencea14@172.16.121.84 in array_config_14 → ./gen/1/logs/14.log\n"
     ]
    },
    {
     "name": "stderr",
     "output_type": "stream",
     "text": [
      "Warning: Permanently added '172.16.121.84' (ED25519) to the list of known hosts.\n"
     ]
    },
    {
     "name": "stdout",
     "output_type": "stream",
     "text": [
      "✅ Completed: Config 1 on cadencea12@172.16.121.82 [array_config_1]\n",
      "🕒 Time taken: 0:00:19.777058\n",
      "📄 Log saved: ./gen/1/logs/1.log\n",
      "📥 Fetching metrics.csv from Config 1 → ./gen/1/logs/csv_files/1.csv\n",
      "✅ Metrics saved to: ./gen/1/logs/csv_files/1.csv\n"
     ]
    },
    {
     "name": "stderr",
     "output_type": "stream",
     "text": [
      "Warning: Permanently added '172.16.121.82' (ED25519) to the list of known hosts.\n"
     ]
    },
    {
     "ename": "KeyboardInterrupt",
     "evalue": "",
     "output_type": "error",
     "traceback": [
      "\u001b[31m---------------------------------------------------------------------------\u001b[39m",
      "\u001b[31mKeyboardInterrupt\u001b[39m                         Traceback (most recent call last)",
      "\u001b[36mCell\u001b[39m\u001b[36m \u001b[39m\u001b[32mIn[8]\u001b[39m\u001b[32m, line 150\u001b[39m\n\u001b[32m    146\u001b[39m         \u001b[38;5;28;01melse\u001b[39;00m:\n\u001b[32m    147\u001b[39m             \u001b[38;5;28mprint\u001b[39m(\u001b[33mf\u001b[39m\u001b[33m\"\u001b[39m\u001b[33m❌ Failed to fetch metrics for Config \u001b[39m\u001b[38;5;132;01m{\u001b[39;00mjob[\u001b[33m'\u001b[39m\u001b[33mconfig_num\u001b[39m\u001b[33m'\u001b[39m]\u001b[38;5;132;01m}\u001b[39;00m\u001b[33m\"\u001b[39m)\n\u001b[32m--> \u001b[39m\u001b[32m150\u001b[39m \u001b[43mrun_remote_compute_cluster_automation\u001b[49m\u001b[43m(\u001b[49m\u001b[32;43m1\u001b[39;49m\u001b[43m)\u001b[49m\n",
      "\u001b[36mCell\u001b[39m\u001b[36m \u001b[39m\u001b[32mIn[8]\u001b[39m\u001b[32m, line 116\u001b[39m, in \u001b[36mrun_remote_compute_cluster_automation\u001b[39m\u001b[34m(generation_idex)\u001b[39m\n\u001b[32m    114\u001b[39m \u001b[38;5;28;01mfor\u001b[39;00m job \u001b[38;5;129;01min\u001b[39;00m processes:\n\u001b[32m    115\u001b[39m     proc = job[\u001b[33m\"\u001b[39m\u001b[33mprocess\u001b[39m\u001b[33m\"\u001b[39m]\n\u001b[32m--> \u001b[39m\u001b[32m116\u001b[39m     \u001b[43mproc\u001b[49m\u001b[43m.\u001b[49m\u001b[43mwait\u001b[49m\u001b[43m(\u001b[49m\u001b[43m)\u001b[49m\n\u001b[32m    117\u001b[39m     end_time = time.time()\n\u001b[32m    119\u001b[39m     duration = timedelta(seconds=(end_time - job[\u001b[33m\"\u001b[39m\u001b[33mstart_time\u001b[39m\u001b[33m\"\u001b[39m]))\n",
      "\u001b[36mFile \u001b[39m\u001b[32m~/miniconda3/envs/ml_env/lib/python3.11/subprocess.py:1264\u001b[39m, in \u001b[36mPopen.wait\u001b[39m\u001b[34m(self, timeout)\u001b[39m\n\u001b[32m   1262\u001b[39m     endtime = _time() + timeout\n\u001b[32m   1263\u001b[39m \u001b[38;5;28;01mtry\u001b[39;00m:\n\u001b[32m-> \u001b[39m\u001b[32m1264\u001b[39m     \u001b[38;5;28;01mreturn\u001b[39;00m \u001b[38;5;28;43mself\u001b[39;49m\u001b[43m.\u001b[49m\u001b[43m_wait\u001b[49m\u001b[43m(\u001b[49m\u001b[43mtimeout\u001b[49m\u001b[43m=\u001b[49m\u001b[43mtimeout\u001b[49m\u001b[43m)\u001b[49m\n\u001b[32m   1265\u001b[39m \u001b[38;5;28;01mexcept\u001b[39;00m \u001b[38;5;167;01mKeyboardInterrupt\u001b[39;00m:\n\u001b[32m   1266\u001b[39m     \u001b[38;5;66;03m# https://bugs.python.org/issue25942\u001b[39;00m\n\u001b[32m   1267\u001b[39m     \u001b[38;5;66;03m# The first keyboard interrupt waits briefly for the child to\u001b[39;00m\n\u001b[32m   1268\u001b[39m     \u001b[38;5;66;03m# exit under the common assumption that it also received the ^C\u001b[39;00m\n\u001b[32m   1269\u001b[39m     \u001b[38;5;66;03m# generated SIGINT and will exit rapidly.\u001b[39;00m\n\u001b[32m   1270\u001b[39m     \u001b[38;5;28;01mif\u001b[39;00m timeout \u001b[38;5;129;01mis\u001b[39;00m \u001b[38;5;129;01mnot\u001b[39;00m \u001b[38;5;28;01mNone\u001b[39;00m:\n",
      "\u001b[36mFile \u001b[39m\u001b[32m~/miniconda3/envs/ml_env/lib/python3.11/subprocess.py:2053\u001b[39m, in \u001b[36mPopen._wait\u001b[39m\u001b[34m(self, timeout)\u001b[39m\n\u001b[32m   2051\u001b[39m \u001b[38;5;28;01mif\u001b[39;00m \u001b[38;5;28mself\u001b[39m.returncode \u001b[38;5;129;01mis\u001b[39;00m \u001b[38;5;129;01mnot\u001b[39;00m \u001b[38;5;28;01mNone\u001b[39;00m:\n\u001b[32m   2052\u001b[39m     \u001b[38;5;28;01mbreak\u001b[39;00m  \u001b[38;5;66;03m# Another thread waited.\u001b[39;00m\n\u001b[32m-> \u001b[39m\u001b[32m2053\u001b[39m (pid, sts) = \u001b[38;5;28;43mself\u001b[39;49m\u001b[43m.\u001b[49m\u001b[43m_try_wait\u001b[49m\u001b[43m(\u001b[49m\u001b[32;43m0\u001b[39;49m\u001b[43m)\u001b[49m\n\u001b[32m   2054\u001b[39m \u001b[38;5;66;03m# Check the pid and loop as waitpid has been known to\u001b[39;00m\n\u001b[32m   2055\u001b[39m \u001b[38;5;66;03m# return 0 even without WNOHANG in odd situations.\u001b[39;00m\n\u001b[32m   2056\u001b[39m \u001b[38;5;66;03m# http://bugs.python.org/issue14396.\u001b[39;00m\n\u001b[32m   2057\u001b[39m \u001b[38;5;28;01mif\u001b[39;00m pid == \u001b[38;5;28mself\u001b[39m.pid:\n",
      "\u001b[36mFile \u001b[39m\u001b[32m~/miniconda3/envs/ml_env/lib/python3.11/subprocess.py:2011\u001b[39m, in \u001b[36mPopen._try_wait\u001b[39m\u001b[34m(self, wait_flags)\u001b[39m\n\u001b[32m   2009\u001b[39m \u001b[38;5;250m\u001b[39m\u001b[33;03m\"\"\"All callers to this function MUST hold self._waitpid_lock.\"\"\"\u001b[39;00m\n\u001b[32m   2010\u001b[39m \u001b[38;5;28;01mtry\u001b[39;00m:\n\u001b[32m-> \u001b[39m\u001b[32m2011\u001b[39m     (pid, sts) = os.waitpid(\u001b[38;5;28mself\u001b[39m.pid, wait_flags)\n\u001b[32m   2012\u001b[39m \u001b[38;5;28;01mexcept\u001b[39;00m \u001b[38;5;167;01mChildProcessError\u001b[39;00m:\n\u001b[32m   2013\u001b[39m     \u001b[38;5;66;03m# This happens if SIGCLD is set to be ignored or waiting\u001b[39;00m\n\u001b[32m   2014\u001b[39m     \u001b[38;5;66;03m# for child processes has otherwise been disabled for our\u001b[39;00m\n\u001b[32m   2015\u001b[39m     \u001b[38;5;66;03m# process.  This child is dead, we can't get the status.\u001b[39;00m\n\u001b[32m   2016\u001b[39m     pid = \u001b[38;5;28mself\u001b[39m.pid\n",
      "\u001b[31mKeyboardInterrupt\u001b[39m: "
     ]
    }
   ],
   "source": [
    "# Adds SCP logic to send array_config_X.dat files before job starts\n",
    "# Suppresses known_hosts warning without touching stderr\n",
    "\n",
    "import subprocess\n",
    "import os\n",
    "import time\n",
    "import threading\n",
    "from datetime import timedelta\n",
    "\n",
    "# -------- CONFIG SECTION -------- #\n",
    "remote_configs = {\n",
    "    \"cadencea12@172.16.121.82\": {\"password\": \"caduser@123\", \"subdir\": [ \"array_config_1\",  \"array_config_2\" ]},\n",
    "    \"cadencea1@172.16.121.72\": {\"password\": \"caduser@123\", \"subdir\": [\"array_config_5\", \"array_config_6\"]},\n",
    "    \"cadencea8@172.16.121.78\": {\"password\": \"caduser@123\", \"subdir\": [\"array_config_7\", \"array_config_8\"]},\n",
    "    \"cadencea10@172.16.121.80\": {\"password\": \"caduser@123\", \"subdir\": [\"array_config_9\", \"array_config_10\"]},\n",
    "    \"cadencea15@172.16.121.6\": {\"password\": \"caduser@123\", \"subdir\": [\"array_config_11\", \"array_config_12\"]},\n",
    "    \"cadencea14@172.16.121.84\": {\"password\": \"caduser@123\", \"subdir\": [\"array_config_13\", \"array_config_14\"]},\n",
    "    \"imt2022556_nishit@172.16.121.37\": {\"password\": \"$@Rl@1234\", \"subdir\": [\"array_config_3\", \"array_config_4\"]},\n",
    "}\n",
    "\n",
    "def run_remote_compute_cluster_automation(generation_idex):\n",
    "    config_mapping = {}\n",
    "    for user_host, config in remote_configs.items():\n",
    "        for subdir in config[\"subdir\"]:\n",
    "            config_num = int(subdir.split('_')[-1])\n",
    "            config_mapping[config_num] = (user_host, subdir)\n",
    "\n",
    "    log_dir_base = f\"./gen/{generation_idex}/logs\"\n",
    "    csv_dir = os.path.join(log_dir_base, \"csv_files\")\n",
    "    vitals_dir = os.path.join(log_dir_base, \"vitals\")\n",
    "\n",
    "    os.makedirs(log_dir_base, exist_ok=True)\n",
    "    os.makedirs(csv_dir, exist_ok=True)\n",
    "    os.makedirs(vitals_dir, exist_ok=True)\n",
    "\n",
    "\n",
    "    # vitals_thread = threading.Thread(target=monitor_vitals, daemon=True)\n",
    "    # vitals_thread.start()\n",
    "\n",
    "    # -------- SCP CONFIG FILES BEFORE JOB START -------- #\n",
    "    for config_num in range(1, 15):\n",
    "        user_host, subdir = config_mapping[config_num]\n",
    "        remote_user, remote_host = user_host.split(\"@\")\n",
    "        password = remote_configs[user_host][\"password\"]\n",
    "\n",
    "        local_dat = f\"./gen/{generation_idex}/{subdir}.dat\"\n",
    "        remote_path = f\"/home/{remote_user}/Documents/strassen/{subdir}/{subdir}.dat\"\n",
    "\n",
    "        if os.path.exists(local_dat):\n",
    "            print(f\"📤 Sending {local_dat} → {remote_user}@{remote_host}:{remote_path}\")\n",
    "            scp_cmd = [\n",
    "                \"sshpass\", \"-p\", password,\n",
    "                \"scp\",\n",
    "                \"-o\", \"StrictHostKeyChecking=no\",\n",
    "                \"-o\", \"UserKnownHostsFile=/dev/null\",\n",
    "                local_dat,\n",
    "                f\"{remote_user}@{remote_host}:{remote_path}\"\n",
    "            ]\n",
    "            result = subprocess.run(scp_cmd)\n",
    "            if result.returncode == 0:\n",
    "                print(\"✅ File sent successfully.\")\n",
    "            else:\n",
    "                print(\"❌ SCP failed.\")\n",
    "        else:\n",
    "            print(f\"⚠️ Missing local file: {local_dat}\")\n",
    "\n",
    "    # -------- JOB LAUNCH SECTION -------- #\n",
    "    processes = []\n",
    "\n",
    "    for config_num in range(1, 15):\n",
    "        user_host, subdir = config_mapping[config_num]\n",
    "        remote_user, remote_host = user_host.split(\"@\")\n",
    "        remote_password = remote_configs[user_host][\"password\"]\n",
    "\n",
    "        remote_path = f\"/home/{remote_user}/Documents/strassen/{subdir}\"\n",
    "        log_file = os.path.join(log_dir_base, f\"{config_num}.log\")\n",
    "\n",
    "        remote_command = f\"\"\"\n",
    "            cd {remote_path} && \\\n",
    "            python3 modify_rtl.py && \\\n",
    "            csh -c \"source cshrc && genus -legacy_ui -files script.tcl && exit\" && \\\n",
    "            python3 get_metrics.py\n",
    "        \"\"\"\n",
    "\n",
    "        full_command = [\n",
    "            \"sshpass\", \"-p\", remote_password,\n",
    "            \"ssh\", \"-tt\",\n",
    "            \"-o\", \"StrictHostKeyChecking=no\",\n",
    "            \"-o\", \"UserKnownHostsFile=/dev/null\",\n",
    "            f\"{remote_user}@{remote_host}\",\n",
    "            remote_command\n",
    "        ]\n",
    "\n",
    "        print(f\"🚀 Launching job: Config {config_num} on {user_host} in {subdir} → {log_file}\")\n",
    "        start_time = time.time()\n",
    "\n",
    "        f = open(log_file, \"w\")\n",
    "        p = subprocess.Popen(full_command, stdout=f, stderr=subprocess.STDOUT)\n",
    "\n",
    "        processes.append({\n",
    "            \"process\": p,\n",
    "            \"stdout\": f,\n",
    "            \"config_num\": config_num,\n",
    "            \"user_host\": user_host,\n",
    "            \"subdir\": subdir,\n",
    "            \"log_file\": log_file,\n",
    "            \"start_time\": start_time\n",
    "        })\n",
    "\n",
    "    # -------- WAIT & SCP METRICS SECTION -------- #\n",
    "    for job in processes:\n",
    "        proc = job[\"process\"]\n",
    "        proc.wait()\n",
    "        end_time = time.time()\n",
    "\n",
    "        duration = timedelta(seconds=(end_time - job[\"start_time\"]))\n",
    "        job[\"stdout\"].write(f\"\\n\\n✅ Time taken: {duration}\\n\")\n",
    "        job[\"stdout\"].close()\n",
    "\n",
    "        print(f\"✅ Completed: Config {job['config_num']} on {job['user_host']} [{job['subdir']}]\")\n",
    "        print(f\"🕒 Time taken: {duration}\")\n",
    "        print(f\"📄 Log saved: {job['log_file']}\")\n",
    "\n",
    "        remote_user, remote_host = job[\"user_host\"].split(\"@\")\n",
    "        remote_password = remote_configs[job[\"user_host\"]][\"password\"]\n",
    "        remote_csv_path = f\"/home/{remote_user}/Documents/strassen/{job['subdir']}/metrics.csv\"\n",
    "        local_csv = os.path.join(csv_dir, f\"{job['config_num']}.csv\")\n",
    "\n",
    "        print(f\"📥 Fetching metrics.csv from Config {job['config_num']} → {local_csv}\")\n",
    "\n",
    "        scp_cmd = [\n",
    "            \"sshpass\", \"-p\", remote_password,\n",
    "            \"scp\",\n",
    "            \"-o\", \"StrictHostKeyChecking=no\",\n",
    "            \"-o\", \"UserKnownHostsFile=/dev/null\",\n",
    "            f\"{remote_user}@{remote_host}:{remote_csv_path}\",\n",
    "            local_csv\n",
    "        ]\n",
    "        result = subprocess.run(scp_cmd)\n",
    "\n",
    "        if result.returncode == 0:\n",
    "            print(f\"✅ Metrics saved to: {local_csv}\")\n",
    "        else:\n",
    "            print(f\"❌ Failed to fetch metrics for Config {job['config_num']}\")\n",
    "\n",
    "\n",
    "run_remote_compute_cluster_automation(1)"
   ]
  },
  {
   "cell_type": "markdown",
   "id": "4b2d48d7",
   "metadata": {},
   "source": [
    "# SSIM PSNR Remotes Automation"
   ]
  },
  {
   "cell_type": "code",
   "execution_count": null,
   "id": "870d404e",
   "metadata": {},
   "outputs": [],
   "source": [
    "remote_configs = {\n",
    "    # lagging system ( needs to push along using ipc )\n",
    "    \"cadencea19@172.16.121.14\": {\"password\": \"caduser@123\", \"subdir\": ['array_config_1', 'array_config_2']},\n",
    "    \"cadencea22@172.16.121.25\": {\"password\": \"caduser@123\", \"subdir\": ['array_config_3', 'array_config_4']},\n",
    "    \"cadencea6@172.16.121.66\": {\"password\": \"caduser@123\", \"subdir\": ['array_config_5', 'array_config_6']},\n",
    "    \"cadencea24@172.16.121.30\": {\"password\": \"caduser@123\", \"subdir\": ['array_config_7', 'array_config_8']},\n",
    "    \"cadencea16@172.16.121.75\": {\"password\": \"caduser@123\", \"subdir\": ['array_config_9', 'array_config_10']},\n",
    "    \"cadencea2@172.16.121.8\": {\"password\": \"caduser@123\", \"subdir\": ['array_config_11', 'array_config_12']},\n",
    "    \"cadencea18@172.16.121.11\": {\"password\": \"caduser@123\", \"subdir\": ['array_config_13', 'array_config_14']},\n",
    "}\n",
    "\n",
    "\n",
    "\n"
   ]
  }
 ],
 "metadata": {
  "kernelspec": {
   "display_name": "ml_env",
   "language": "python",
   "name": "python3"
  },
  "language_info": {
   "codemirror_mode": {
    "name": "ipython",
    "version": 3
   },
   "file_extension": ".py",
   "mimetype": "text/x-python",
   "name": "python",
   "nbconvert_exporter": "python",
   "pygments_lexer": "ipython3",
   "version": "3.11.11"
  }
 },
 "nbformat": 4,
 "nbformat_minor": 5
}
